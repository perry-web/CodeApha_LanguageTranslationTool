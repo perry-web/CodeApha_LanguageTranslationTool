{
 "cells": [
  {
   "cell_type": "markdown",
   "id": "e2adc7d4",
   "metadata": {},
   "source": [
    "## What the App Does (High-Level Overview)\n",
    "\n",
    "This program is a desktop translation application that allows users to:\n",
    "- Translate text between languages (auto-detect or manually select).\n",
    "- Speak into a microphone → convert speech to text.\n",
    "- Speak → instantly hear the translated version (speech-to-speech).\n",
    "- Perform real-time continuous translation.\n",
    "- Listen to translated text using text-to-speech (TTS).\n",
    "- Store translation history in a CSV file.\n",
    "The app uses:\n",
    "- Tkinter → graphical interface\n",
    "- GoogleTranslator (from deep_translator) → translation engine\n",
    "- SpeechRecognition → captures and converts audio input to text\n",
    "- gTTS → converts translated text back to speech\n",
    "- playsound → plays the generated audio\n",
    "- langdetect → automatically detects the language of the text input\n",
    "- CSV → stores translation history"
   ]
  },
  {
   "cell_type": "markdown",
   "id": "bcdb9539",
   "metadata": {},
   "source": [
    "## Imports and Setup"
   ]
  },
  {
   "cell_type": "code",
   "execution_count": null,
   "id": "0d1649ea",
   "metadata": {},
   "outputs": [],
   "source": [
    "import tkinter as tk\n",
    "from tkinter import ttk, messagebox, scrolledtext\n",
    "from deep_translator import GoogleTranslator\n",
    "from gtts import gTTS\n",
    "from langdetect import detect\n",
    "import speech_recognition as sr\n",
    "import pyperclip\n",
    "import threading\n",
    "import csv\n",
    "import time\n",
    "import os\n",
    "from playsound import playsound"
   ]
  },
  {
   "cell_type": "markdown",
   "id": "30e1593f",
   "metadata": {},
   "source": [
    "## Explanation:\n",
    "\n",
    "- tkinter — The GUI framework.\n",
    "- ttk — Provides themed widgets (modern look).\n",
    "- messagebox — Displays pop-up dialogs (warnings, errors, etc.).\n",
    "- scrolledtext — A text box with built-in scrollbar.\n",
    "- deep_translator.GoogleTranslator — A wrapper to use Google Translate API.\n",
    "- gTTS — Converts text into speech (audio file).\n",
    "- langdetect.detect — Automatically determines the language of input text.\n",
    "- speech_recognition — Converts speech (from microphone) into text.\n",
    "- pyperclip — Copies text to the system clipboard.\n",
    "- threading — Runs long operations (like listening or audio playback) in background threads so the GUI doesn’t freeze.\n",
    "- csv, os, time — Handle file operations and logging.\n",
    "- playsound — Plays audio files."
   ]
  },
  {
   "cell_type": "markdown",
   "id": "f3801b85",
   "metadata": {},
   "source": [
    "## Configuration & Language Mapping"
   ]
  },
  {
   "cell_type": "code",
   "execution_count": null,
   "id": "13d21c93",
   "metadata": {},
   "outputs": [],
   "source": [
    "HISTORY_FILE = \"translation_history.csv\"\n",
    "\n",
    "LANGUAGES = {\n",
    "    'Auto Detect': 'auto',\n",
    "    'English': 'en', 'French': 'fr', 'Spanish': 'es', 'German': 'de',\n",
    "    'Italian': 'it', 'Portuguese': 'pt', 'Arabic': 'ar',\n",
    "    'Chinese (Simplified)': 'zh-CN', 'Japanese': 'ja',\n",
    "    'Korean': 'ko', 'Russian': 'ru'\n",
    "}"
   ]
  },
  {
   "cell_type": "markdown",
   "id": "186bc3ba",
   "metadata": {},
   "source": [
    "- HISTORY_FILE: path to store all translation records.\n",
    "- LANGUAGES: dictionary mapping user-friendly names → language codes used by Google Translator."
   ]
  },
  {
   "cell_type": "markdown",
   "id": "ae9de9c3",
   "metadata": {},
   "source": [
    "## Utility Functions\n",
    "### (a) Save Translation History"
   ]
  },
  {
   "cell_type": "code",
   "execution_count": null,
   "id": "0afd55ab",
   "metadata": {},
   "outputs": [],
   "source": [
    "def save_history(mode, source_lang, target_lang, source_text, translated_text):"
   ]
  },
  {
   "cell_type": "markdown",
   "id": "45b65601",
   "metadata": {},
   "source": [
    "Writes a new row to the CSV file containing:\n",
    "- timestamp\n",
    "- translation mode (text, speech, real-time)\n",
    "- source/target languages\n",
    "- input and output text\n",
    "If the file doesn’t exist, it creates one and adds column headers."
   ]
  },
  {
   "cell_type": "markdown",
   "id": "68054d16",
   "metadata": {},
   "source": [
    "### (b) Language Detection"
   ]
  },
  {
   "cell_type": "code",
   "execution_count": null,
   "id": "bb45ecba",
   "metadata": {},
   "outputs": [],
   "source": [
    "def detect_language(text):\n",
    "    try:\n",
    "        return detect(text)\n",
    "    except:\n",
    "        return \"unknown\"\n"
   ]
  },
  {
   "cell_type": "markdown",
   "id": "f4cf36ba",
   "metadata": {},
   "source": [
    "Uses the langdetect library to guess the language of the input text.\n",
    "If detection fails (e.g., gibberish), it returns \"unknown\"."
   ]
  },
  {
   "cell_type": "markdown",
   "id": "c1bc2007",
   "metadata": {},
   "source": [
    "### (c) Play Audio"
   ]
  },
  {
   "cell_type": "code",
   "execution_count": null,
   "id": "c948126e",
   "metadata": {},
   "outputs": [],
   "source": [
    "def play_audio(file_path):\n",
    "    threading.Thread(target=lambda: playsound(file_path)).start()"
   ]
  },
  {
   "cell_type": "markdown",
   "id": "76d1a5d9",
   "metadata": {},
   "source": [
    "Plays sound asynchronously in a new thread so the app remains responsive."
   ]
  },
  {
   "cell_type": "markdown",
   "id": "98bddcaf",
   "metadata": {},
   "source": [
    "## Translation & Speech Functions\n",
    "### (a) translate_text()\n",
    "\n",
    "Handles manual or auto translation of typed text.\n",
    "Steps:\n",
    "- Get text from the input box.\n",
    "- Determine source and target languages.\n",
    "- If set to “Auto Detect”, detect the source language using langdetect.\n",
    "- Use GoogleTranslator to translate the text.\n",
    "- Display translation in the output box.\n",
    "- Save translation to CSV history."
   ]
  },
  {
   "cell_type": "markdown",
   "id": "3a038411",
   "metadata": {},
   "source": [
    "### (b) copy_translation()\n",
    "\n",
    "Copies the translated text from the output box to clipboard."
   ]
  },
  {
   "cell_type": "markdown",
   "id": "78544391",
   "metadata": {},
   "source": [
    "### (c) text_to_speech()\n",
    "\n",
    "Converts translated text into an MP3 and plays it aloud:\n",
    "- Reads the translated text.\n",
    "- Uses gTTS with the target language.\n",
    "- Saves to \"translation.mp3\".\n",
    "- Plays it using play_audio()."
   ]
  },
  {
   "cell_type": "markdown",
   "id": "17165d47",
   "metadata": {},
   "source": [
    "### (d) speech_to_text()\n",
    "\n",
    "Captures voice input and transcribes it to text:\n",
    "- Uses SpeechRecognition’s Microphone class to record.\n",
    "- Calls Google’s speech recognition API to convert to text.\n",
    "- Inserts result into the input text box."
   ]
  },
  {
   "cell_type": "markdown",
   "id": "c2a0c1ea",
   "metadata": {},
   "source": [
    "### (e) speech_to_speech()\n",
    "\n",
    "Performs full speech → translation → speech:\n",
    "- Listens for audio via microphone.\n",
    "- Converts it to text.\n",
    "- Detects input language.\n",
    "- Translates to the selected target language.\n",
    "- Converts translated text to speech.\n",
    "- Plays the result.\n",
    "- Saves to CSV history."
   ]
  },
  {
   "cell_type": "markdown",
   "id": "fe6d2d4b",
   "metadata": {},
   "source": [
    "### (f) real_time_translation()\n",
    "\n",
    "Runs continuous real-time translation until stopped (via Ctrl+C or closing):\n",
    "- Constantly listens for speech in short bursts.\n",
    "- Converts recognized text to translation repeatedly.\n",
    "- Appends results in the output box like a live chat.\n",
    "- Keeps logging each translation event."
   ]
  },
  {
   "cell_type": "markdown",
   "id": "9284388d",
   "metadata": {},
   "source": [
    "## GUI Layout and Widgets"
   ]
  },
  {
   "cell_type": "code",
   "execution_count": null,
   "id": "dc5106d3",
   "metadata": {},
   "outputs": [],
   "source": [
    "app = tk.Tk()\n",
    "app.title(\"AI Translator Desktop App\")\n",
    "app.geometry(\"700x650\")\n",
    "app.configure(bg=\"#f5f6fa\")"
   ]
  },
  {
   "cell_type": "markdown",
   "id": "092b445e",
   "metadata": {},
   "source": [
    "Creates the main window with a custom background color and size."
   ]
  },
  {
   "cell_type": "markdown",
   "id": "02dac9b4",
   "metadata": {},
   "source": [
    "### Title Section"
   ]
  },
  {
   "cell_type": "code",
   "execution_count": null,
   "id": "477c3809",
   "metadata": {},
   "outputs": [],
   "source": [
    "tk.Label(app, text=\"AI Translator\", font=(\"Segoe UI\", 18, \"bold\"), bg=\"#f5f6fa\").pack(pady=10)"
   ]
  },
  {
   "cell_type": "markdown",
   "id": "0e18c791",
   "metadata": {},
   "source": [
    "Simple title label at the top."
   ]
  },
  {
   "cell_type": "markdown",
   "id": "93408f99",
   "metadata": {},
   "source": [
    "### Language Selector Section\n",
    "\n",
    "Two dropdowns (comboboxes) for selecting source and target languages.\n",
    "The default source is “Auto Detect”, and target is “French”."
   ]
  },
  {
   "cell_type": "markdown",
   "id": "7bf9079a",
   "metadata": {},
   "source": [
    "### Input Text Box\n",
    "\n",
    "A scrollable text area where users can type or receive recognized speech."
   ]
  },
  {
   "cell_type": "markdown",
   "id": "8e13a040",
   "metadata": {},
   "source": [
    "### Button Controls\n",
    "\n",
    "Organized into two frames:\n",
    "\n",
    "#### Text Controls:\n",
    "- Translate Text\n",
    "- Copy Translation\n",
    "- Text-to-Speech\n",
    "\n",
    "#### Speech Controls:\n",
    "- Speech-to-Text\n",
    "- Speech-to-Speech\n",
    "- Real-Time Speech Translation\n",
    "Each button calls its corresponding function when clicked."
   ]
  },
  {
   "cell_type": "markdown",
   "id": "4628b8b6",
   "metadata": {},
   "source": [
    "### Output Area\n",
    "\n",
    "Shows the translated text."
   ]
  },
  {
   "cell_type": "markdown",
   "id": "db534c23",
   "metadata": {},
   "source": [
    "## Why It’s Designed This Way"
   ]
  },
  {
   "cell_type": "markdown",
   "id": "f660664a",
   "metadata": {},
   "source": [
    "| Design Choice                        | Reason                                                           |\n",
    "| ------------------------------------ | ---------------------------------------------------------------- |\n",
    "| **Tkinter GUI**                      | Lightweight, built-in with Python.                               |\n",
    "| **deep_translator.GoogleTranslator** | No need for API key, quick setup.                                |\n",
    "| **Auto Detection via `langdetect`**  | Improves user experience — no manual language selection needed.  |\n",
    "| **Threading**                        | Keeps UI responsive during long operations.                      |\n",
    "| **CSV Logging**                      | Simple way to keep track of translations for reuse or debugging. |\n",
    "| **SpeechRecognition + gTTS**         | Provides end-to-end voice translation experience.                |\n"
   ]
  }
 ],
 "metadata": {
  "language_info": {
   "name": "python"
  }
 },
 "nbformat": 4,
 "nbformat_minor": 5
}
